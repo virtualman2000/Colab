{
  "nbformat": 4,
  "nbformat_minor": 0,
  "metadata": {
    "colab": {
      "name": "充分利用您的 Colab 订阅",
      "provenance": [],
      "collapsed_sections": [],
      "machine_shape": "hm",
      "include_colab_link": true
    },
    "kernelspec": {
      "display_name": "Python 3",
      "name": "python3"
    }
  },
  "cells": [
    {
      "cell_type": "markdown",
      "metadata": {
        "id": "view-in-github",
        "colab_type": "text"
      },
      "source": [
        "<a href=\"https://colab.research.google.com/github/virtualman2000/Colab/blob/main/%E5%85%85%E5%88%86%E5%88%A9%E7%94%A8%E6%82%A8%E7%9A%84_Colab_%E8%AE%A2%E9%98%85.ipynb\" target=\"_parent\"><img src=\"https://colab.research.google.com/assets/colab-badge.svg\" alt=\"Open In Colab\"/></a>"
      ]
    },
    {
      "cell_type": "markdown",
      "metadata": {
        "id": "SKQ4bH7qMGrA"
      },
      "source": [
        "# 充分利用您的 Colab 订阅\n",
        "\n"
      ]
    },
    {
      "cell_type": "markdown",
      "metadata": {
        "id": "QMMqmdiYMkvi"
      },
      "source": [
        "## 更快的 GPU\n",
        "\n",
        "订阅 Colab Pro 后，您可以优先使用我们最快的 GPU。例如，很多时候大多数标准 Colab 用户只能使用速度较慢的 K80 GPU，而您却可以使用 T4 或 P100 GPU。您只需执行以下单元，即可随时查看分配给您的 GPU。"
      ]
    },
    {
      "cell_type": "code",
      "metadata": {
        "colab": {
          "base_uri": "https://localhost:8080/"
        },
        "id": "23TOba33L4qf",
        "outputId": "a21809f9-c679-4062-c910-0b87812dcf7b"
      },
      "source": [
        "gpu_info = !nvidia-smi\n",
        "gpu_info = '\\n'.join(gpu_info)\n",
        "if gpu_info.find('failed') >= 0:\n",
        "  print('Select the Runtime > \"Change runtime type\" menu to enable a GPU accelerator, ')\n",
        "  print('and then re-execute this cell.')\n",
        "else:\n",
        "  print(gpu_info)"
      ],
      "execution_count": 1,
      "outputs": [
        {
          "output_type": "stream",
          "text": [
            "Select the Runtime > \"Change runtime type\" menu to enable a GPU accelerator, \n",
            "and then re-execute this cell.\n"
          ],
          "name": "stdout"
        }
      ]
    },
    {
      "cell_type": "markdown",
      "metadata": {
        "id": "Sa-IrJS1aRVJ"
      },
      "source": [
        "为了在笔记本中使用 GPU，请依次选择“运行时”&gt;“更改运行时类型”菜单，然后从“硬件加速器”下拉菜单中选择 GPU。"
      ]
    },
    {
      "cell_type": "markdown",
      "metadata": {
        "id": "65MSuHKqNeBZ"
      },
      "source": [
        "## 更多内存\n",
        "\n",
        "<p>订阅 Colab Pro 后，您可以选择使用高内存虚拟机（如果可用）。如需设置笔记本偏好设置以使用高内存运行时，请依次选择“运行时”&gt;“更改运行时类型”菜单，然后在“运行时规格”下拉菜单中选择“高内存”。</p>\n",
        "<p>您只需运行以下代码，即可随时查看可供您使用的内存量。</p>"
      ]
    },
    {
      "cell_type": "code",
      "metadata": {
        "colab": {
          "base_uri": "https://localhost:8080/"
        },
        "id": "V1G82GuO-tez",
        "outputId": "9800816f-e837-4021-c2b8-f5521d838359"
      },
      "source": [
        "from psutil import virtual_memory\n",
        "ram_gb = virtual_memory().total / 1e9\n",
        "print('Your runtime has {:.1f} gigabytes of available RAM\\n'.format(ram_gb))\n",
        "\n",
        "if ram_gb < 20:\n",
        "  print('To enable a high-RAM runtime, select the Runtime > \"Change runtime type\"')\n",
        "  print('menu, and then select High-RAM in the Runtime shape dropdown. Then, ')\n",
        "  print('re-execute this cell.')\n",
        "else:\n",
        "  print('You are using a high-RAM runtime!')"
      ],
      "execution_count": 2,
      "outputs": [
        {
          "output_type": "stream",
          "text": [
            "Your runtime has 27.3 gigabytes of available RAM\n",
            "\n",
            "You are using a high-RAM runtime!\n"
          ],
          "name": "stdout"
        }
      ]
    },
    {
      "cell_type": "markdown",
      "metadata": {
        "id": "BJW8Qi-pPpep"
      },
      "source": [
        "## 更长的运行时\n",
        "\n",
        "所有 Colab 运行时都会在一段时间后重置（如果运行时未执行代码，它会更早重置）。Colab Pro 订阅者的使用量仍会受到限制，但相比非订阅者可享有的限额要高出大约一倍。"
      ]
    },
    {
      "cell_type": "markdown",
      "metadata": {
        "id": "uLlTRcMM_h0k"
      },
      "source": [
        "## Colab Pro 中的资源限制\n",
        "\n",
        "您在 Colab Pro 中可以使用的资源量并非不受限制。为了充分利用 Colab Pro，请避免在不需要时占用资源。例如，仅在需要时使用 GPU 或高 RAM 运行时，并在使用完毕后关闭 Colab 标签页。\n"
      ]
    },
    {
      "cell_type": "markdown",
      "metadata": {
        "id": "mm8FzEidvPs6"
      },
      "source": [
        "## 向我们发送反馈！\n",
        "\n",
        "<p>如果您有任何反馈，请告诉我们。发送反馈的最佳方式是使用“帮助”&gt;“发送反馈…”菜单。如果您在 Colab Pro 中遇到用量限额问题，并希望获得用量限额更高的产品，请告诉我们。</p>\n",
        "<p>如果您在使用 Colab Pro 时遇到错误或结算（付款）方面的其他问题，请发送电子邮件至 <a href=\"mailto:colab-billing@google.com\">colab-billing@google.com</a>。</p>"
      ]
    }
  ]
}